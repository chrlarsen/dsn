{
 "cells": [
  {
   "cell_type": "code",
   "execution_count": null,
   "id": "initial_id",
   "metadata": {
    "collapsed": true
   },
   "outputs": [],
   "source": [
    "# Stack Overflow 2017 Developer Survey Analysis\n",
    "\n",
    "import pandas as pd\n",
    "import numpy as np\n",
    "import matplotlib.pyplot as plt\n",
    "import seaborn as sns\n",
    "\n",
    "%matplotlib inline"
   ]
  },
  {
   "metadata": {},
   "cell_type": "code",
   "outputs": [],
   "execution_count": null,
   "source": [
    "# Load the dataset\n",
    "survey_df = pd.read_csv('survey_results_public.csv')"
   ],
   "id": "1f788c9f0e37260c"
  },
  {
   "metadata": {},
   "cell_type": "code",
   "outputs": [],
   "execution_count": null,
   "source": [
    "# Display the first few rows\n",
    "print(survey_df.head().to_markdown(index=False, numalign=\"left\", stralign=\"left\"))"
   ],
   "id": "661aca92a87ab6d"
  },
  {
   "metadata": {},
   "cell_type": "code",
   "outputs": [],
   "execution_count": null,
   "source": [
    "# Get information about the columns\n",
    "print(survey_df.info())"
   ],
   "id": "37ff441c1a587abc"
  },
  {
   "metadata": {},
   "cell_type": "code",
   "outputs": [],
   "execution_count": null,
   "source": [
    "# Summary statistics for relevant numerical columns\n",
    "print(survey_df[['Salary', 'CareerSatisfaction']].describe().to_markdown())bb"
   ],
   "id": "6c0ca96e96cc2a9"
  },
  {
   "metadata": {},
   "cell_type": "code",
   "outputs": [],
   "execution_count": null,
   "source": [
    "# Explore the distribution of salaries (remove outliers for a clearer view)\n",
    "sns.histplot(survey_df[survey_df['Salary'] < 200000]['Salary'], kde=True)\n",
    "plt.title('Salary Distribution (Outliers Removed)')\n",
    "plt.show()"
   ],
   "id": "ee4b86edf9721a3e"
  },
  {
   "metadata": {},
   "cell_type": "code",
   "outputs": [],
   "execution_count": null,
   "source": [
    "# What are the most popular languages?\n",
    "top_languages = survey_df['HaveWorkedLanguage'].str.split(';').explode().value_counts().head(10)\n",
    "print(\"Top 10 Most Popular Languages:\\n\", top_languages.to_markdown(numalign=\"left\", stralign=\"left\"))"
   ],
   "id": "66e4ba7f465c10b6"
  },
  {
   "metadata": {},
   "cell_type": "code",
   "outputs": [],
   "execution_count": null,
   "source": [
    "# Relationship between salary and experience\n",
    "sns.boxplot(x='YearsCoding', y='Salary', data=survey_df[survey_df['Salary'] < 200000])\n",
    "plt.title('Salary vs. Years of Coding Experience')\n",
    "plt.show()"
   ],
   "id": "e10560ece4e32a4c"
  },
  {
   "metadata": {},
   "cell_type": "code",
   "outputs": [],
   "execution_count": null,
   "source": [
    "# Job Satisfaction by Country\n",
    "grouped_by_country = survey_df.groupby('Country')['CareerSatisfaction'].mean().sort_values(ascending=False)\n",
    "print(\"Top 10 Countries by Job Satisfaction:\\n\", grouped_by_country.head(10).to_markdown())"
   ],
   "id": "898da06e306558ad"
  },
  {
   "metadata": {},
   "cell_type": "code",
   "outputs": [],
   "execution_count": null,
   "source": [
    "# Education vs. Salary\n",
    "sns.boxplot(x='FormalEducation', y='Salary', data=survey_df[survey_df['Salary'] < 200000])\n",
    "plt.title('Salary vs. Formal Education')\n",
    "plt.xticks(rotation=45)\n",
    "plt.show()"
   ],
   "id": "8934d0944746cfe8"
  },
  {
   "metadata": {},
   "cell_type": "code",
   "outputs": [],
   "execution_count": null,
   "source": "",
   "id": "b900ecdaf2bf4213"
  }
 ],
 "metadata": {
  "kernelspec": {
   "display_name": "Python 3",
   "language": "python",
   "name": "python3"
  },
  "language_info": {
   "codemirror_mode": {
    "name": "ipython",
    "version": 2
   },
   "file_extension": ".py",
   "mimetype": "text/x-python",
   "name": "python",
   "nbconvert_exporter": "python",
   "pygments_lexer": "ipython2",
   "version": "2.7.6"
  }
 },
 "nbformat": 4,
 "nbformat_minor": 5
}
